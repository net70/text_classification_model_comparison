version https://git-lfs.github.com/spec/v1
oid sha256:c74f904d20ff4b1ba6ddec279fe713675d56431aa8089b07516a76b6fdbb1218
size 13497176
