version https://git-lfs.github.com/spec/v1
oid sha256:d47e30776def2c8bbc3771f62f10c3d0d53d41854b905b42f65d3ac823f8e912
size 584760
