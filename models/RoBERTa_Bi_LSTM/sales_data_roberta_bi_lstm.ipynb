version https://git-lfs.github.com/spec/v1
oid sha256:c4197ccc6f98bf9e396c5a3a93d689635456abbe3ace3aaece59dca1ef4a9a01
size 424321
